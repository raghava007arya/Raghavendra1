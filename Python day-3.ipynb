{
 "cells": [
  {
   "cell_type": "markdown",
   "id": "c0692cbe",
   "metadata": {},
   "source": [
    "# AND & OR Operations"
   ]
  },
  {
   "cell_type": "code",
   "execution_count": 1,
   "id": "5765e491",
   "metadata": {},
   "outputs": [
    {
     "data": {
      "text/plain": [
       "False"
      ]
     },
     "execution_count": 1,
     "metadata": {},
     "output_type": "execute_result"
    }
   ],
   "source": [
    "(1>2) and (2>1)"
   ]
  },
  {
   "cell_type": "code",
   "execution_count": 3,
   "id": "10787ba3",
   "metadata": {},
   "outputs": [
    {
     "data": {
      "text/plain": [
       "True"
      ]
     },
     "execution_count": 3,
     "metadata": {},
     "output_type": "execute_result"
    }
   ],
   "source": [
    "(2==2) and (2>=1)"
   ]
  },
  {
   "cell_type": "code",
   "execution_count": 4,
   "id": "c882582f",
   "metadata": {},
   "outputs": [
    {
     "data": {
      "text/plain": [
       "False"
      ]
     },
     "execution_count": 4,
     "metadata": {},
     "output_type": "execute_result"
    }
   ],
   "source": [
    "(3>1) and (3<1)"
   ]
  },
  {
   "cell_type": "code",
   "execution_count": 5,
   "id": "1609d277",
   "metadata": {},
   "outputs": [
    {
     "data": {
      "text/plain": [
       "False"
      ]
     },
     "execution_count": 5,
     "metadata": {},
     "output_type": "execute_result"
    }
   ],
   "source": [
    "(4<1) and (5>10)"
   ]
  },
  {
   "cell_type": "code",
   "execution_count": 6,
   "id": "a790e591",
   "metadata": {},
   "outputs": [
    {
     "data": {
      "text/plain": [
       "True"
      ]
     },
     "execution_count": 6,
     "metadata": {},
     "output_type": "execute_result"
    }
   ],
   "source": [
    "(3>4) or (2>1)"
   ]
  },
  {
   "cell_type": "code",
   "execution_count": 7,
   "id": "7e9a010f",
   "metadata": {},
   "outputs": [
    {
     "data": {
      "text/plain": [
       "True"
      ]
     },
     "execution_count": 7,
     "metadata": {},
     "output_type": "execute_result"
    }
   ],
   "source": [
    "(4==4) or (5>=4)"
   ]
  },
  {
   "cell_type": "code",
   "execution_count": 8,
   "id": "73c9b952",
   "metadata": {},
   "outputs": [
    {
     "data": {
      "text/plain": [
       "False"
      ]
     },
     "execution_count": 8,
     "metadata": {},
     "output_type": "execute_result"
    }
   ],
   "source": [
    "(6<2) or (8<2)"
   ]
  },
  {
   "cell_type": "code",
   "execution_count": 9,
   "id": "92f8e504",
   "metadata": {},
   "outputs": [
    {
     "data": {
      "text/plain": [
       "True"
      ]
     },
     "execution_count": 9,
     "metadata": {},
     "output_type": "execute_result"
    }
   ],
   "source": [
    "(6<2) or (8>2)"
   ]
  },
  {
   "cell_type": "code",
   "execution_count": 10,
   "id": "b1ce9b13",
   "metadata": {},
   "outputs": [
    {
     "data": {
      "text/plain": [
       "True"
      ]
     },
     "execution_count": 10,
     "metadata": {},
     "output_type": "execute_result"
    }
   ],
   "source": [
    "((5>3) and (6<4)) or ((4>3) or (6<2))"
   ]
  },
  {
   "cell_type": "markdown",
   "id": "12fecd2b",
   "metadata": {},
   "source": [
    "now lets see the difference between the brackets- open and closed brackets"
   ]
  },
  {
   "cell_type": "code",
   "execution_count": 11,
   "id": "96ca6cc7",
   "metadata": {},
   "outputs": [
    {
     "data": {
      "text/plain": [
       "[False]"
      ]
     },
     "execution_count": 11,
     "metadata": {},
     "output_type": "execute_result"
    }
   ],
   "source": [
    "[(5>3) and (6<4)] or [(4>3) or (6<2)]"
   ]
  },
  {
   "cell_type": "code",
   "execution_count": 12,
   "id": "6fcba692",
   "metadata": {},
   "outputs": [
    {
     "data": {
      "text/plain": [
       "False"
      ]
     },
     "execution_count": 12,
     "metadata": {},
     "output_type": "execute_result"
    }
   ],
   "source": [
    "((5>3) and (6<4)) and ((4>3) or (6<2))"
   ]
  },
  {
   "cell_type": "code",
   "execution_count": 13,
   "id": "04e8923c",
   "metadata": {},
   "outputs": [
    {
     "data": {
      "text/plain": [
       "True"
      ]
     },
     "execution_count": 13,
     "metadata": {},
     "output_type": "execute_result"
    }
   ],
   "source": [
    "((4>3) or (6<2) and (5>3) and (6<4))"
   ]
  },
  {
   "cell_type": "code",
   "execution_count": 16,
   "id": "7134ad12",
   "metadata": {},
   "outputs": [
    {
     "data": {
      "text/plain": [
       "[False]"
      ]
     },
     "execution_count": 16,
     "metadata": {},
     "output_type": "execute_result"
    }
   ],
   "source": [
    "[(5>3) and (6<4)] or [(4>3) or (6<2)]"
   ]
  },
  {
   "cell_type": "code",
   "execution_count": 15,
   "id": "d52854d9",
   "metadata": {},
   "outputs": [
    {
     "data": {
      "text/plain": [
       "[True]"
      ]
     },
     "execution_count": 15,
     "metadata": {},
     "output_type": "execute_result"
    }
   ],
   "source": [
    "[(5>3) and (6>4)] and [(4>3) or (6<2)]"
   ]
  },
  {
   "cell_type": "markdown",
   "id": "344afdc2",
   "metadata": {},
   "source": [
    "Difference observed is, for open brackets, the output is displayed based on the output of first set for OR condition and the output is displayed based on the output of second set for AND condition."
   ]
  },
  {
   "cell_type": "markdown",
   "id": "70fdc57e",
   "metadata": {},
   "source": [
    "# Python Lists "
   ]
  },
  {
   "cell_type": "code",
   "execution_count": 24,
   "id": "c1a04bd7",
   "metadata": {},
   "outputs": [
    {
     "name": "stdout",
     "output_type": "stream",
     "text": [
      "[3, 5]\n"
     ]
    }
   ],
   "source": [
    "list=[];\n",
    "list.insert(1,3);\n",
    "list.insert(4,5);\n",
    "print(list);\n"
   ]
  },
  {
   "cell_type": "code",
   "execution_count": 25,
   "id": "25de1246",
   "metadata": {},
   "outputs": [
    {
     "name": "stdout",
     "output_type": "stream",
     "text": [
      "[3, 5, 5]\n"
     ]
    }
   ],
   "source": [
    "list.insert(1,5);\n",
    "print(list);"
   ]
  },
  {
   "cell_type": "code",
   "execution_count": 27,
   "id": "2d1224d1",
   "metadata": {},
   "outputs": [
    {
     "name": "stdout",
     "output_type": "stream",
     "text": [
      "('apple', 'banana', 'mango', 'pineapple', 'orange')\n"
     ]
    }
   ],
   "source": [
    "list1=('apple','banana','mango');\n",
    "list2=('pineapple','orange');\n",
    "print(list1 + list2);"
   ]
  },
  {
   "cell_type": "code",
   "execution_count": 31,
   "id": "54061f2b",
   "metadata": {},
   "outputs": [
    {
     "name": "stdout",
     "output_type": "stream",
     "text": [
      "['apple', 'banana', 'mango', 'orange']\n"
     ]
    }
   ],
   "source": [
    "list1=['apple','banana','mango']\n",
    "list1.append('orange')\n",
    "print(list1);"
   ]
  },
  {
   "cell_type": "code",
   "execution_count": 34,
   "id": "90ad48b8",
   "metadata": {},
   "outputs": [
    {
     "name": "stdout",
     "output_type": "stream",
     "text": [
      "['apple', 'orange', 'banana', 'mango']\n"
     ]
    }
   ],
   "source": [
    "list2=['apple','banana','mango']\n",
    "list2.insert(1,'orange')\n",
    "print(list2);"
   ]
  },
  {
   "cell_type": "code",
   "execution_count": 35,
   "id": "e907903e",
   "metadata": {},
   "outputs": [
    {
     "name": "stdout",
     "output_type": "stream",
     "text": [
      "['apple', 'banana', 'orange', 'mango']\n"
     ]
    }
   ],
   "source": [
    "list2=['apple','banana','mango']\n",
    "list2.insert(2,'orange')\n",
    "print(list2);"
   ]
  },
  {
   "cell_type": "code",
   "execution_count": 36,
   "id": "aaebec10",
   "metadata": {},
   "outputs": [
    {
     "name": "stdout",
     "output_type": "stream",
     "text": [
      "['orange', 'apple', 'banana', 'mango']\n"
     ]
    }
   ],
   "source": [
    "list2=['apple','banana','mango']\n",
    "list2.insert(0,'orange')\n",
    "print(list2);"
   ]
  },
  {
   "cell_type": "code",
   "execution_count": 37,
   "id": "7ac3cc62",
   "metadata": {},
   "outputs": [
    {
     "name": "stdout",
     "output_type": "stream",
     "text": [
      "['apple', 'banana', 'mango']\n"
     ]
    }
   ],
   "source": [
    "list2=['apple','banana','mango','orange']\n",
    "list2.remove('orange')\n",
    "print(list2);"
   ]
  },
  {
   "cell_type": "code",
   "execution_count": 38,
   "id": "ee8c33e8",
   "metadata": {},
   "outputs": [
    {
     "name": "stdout",
     "output_type": "stream",
     "text": [
      "['apple', 'banana', 'mango', 'orange', 'kiwi', 'dragon fruit']\n"
     ]
    }
   ],
   "source": [
    "list2=['apple','banana','mango','orange']\n",
    "list1=['kiwi', 'dragon fruit']\n",
    "list2.extend(list1)\n",
    "print(list2);"
   ]
  },
  {
   "cell_type": "code",
   "execution_count": 40,
   "id": "c61e3b96",
   "metadata": {},
   "outputs": [
    {
     "name": "stdout",
     "output_type": "stream",
     "text": [
      "['apple', 'banana', 'mango']\n"
     ]
    }
   ],
   "source": [
    "list2=['apple','banana','mango','orange']\n",
    "list2.pop()\n",
    "print(list2);"
   ]
  },
  {
   "cell_type": "code",
   "execution_count": 41,
   "id": "283efa78",
   "metadata": {},
   "outputs": [
    {
     "name": "stdout",
     "output_type": "stream",
     "text": [
      "['apple', 'mango', 'orange']\n"
     ]
    }
   ],
   "source": [
    "list2=['apple','banana','mango','orange']\n",
    "list2.pop(1)\n",
    "print(list2);"
   ]
  },
  {
   "cell_type": "code",
   "execution_count": 44,
   "id": "11fbc601",
   "metadata": {},
   "outputs": [
    {
     "name": "stdout",
     "output_type": "stream",
     "text": [
      "[6, 5, 4, 3, 2, 1]\n"
     ]
    }
   ],
   "source": [
    "list3=[1,2,3,4,5,6];\n",
    "list3.reverse();\n",
    "print(list3);"
   ]
  },
  {
   "cell_type": "code",
   "execution_count": 47,
   "id": "a50190d1",
   "metadata": {},
   "outputs": [
    {
     "name": "stdout",
     "output_type": "stream",
     "text": [
      "[6, 3, 1, 4, 2, 5]\n"
     ]
    }
   ],
   "source": [
    "list3=[6,3,1,4,2,5];\n",
    "sort_list3=sorted(list3);\n",
    "print(list3);"
   ]
  },
  {
   "cell_type": "code",
   "execution_count": 48,
   "id": "47e77382",
   "metadata": {},
   "outputs": [
    {
     "name": "stdout",
     "output_type": "stream",
     "text": [
      "[1, 2, 3, 4, 5, 6]\n"
     ]
    }
   ],
   "source": [
    "list3=[6,3,1,4,2,5];\n",
    "sort_list3=sorted(list3);\n",
    "print(sort_list3);"
   ]
  },
  {
   "cell_type": "code",
   "execution_count": 49,
   "id": "0f80b3b1",
   "metadata": {},
   "outputs": [
    {
     "name": "stdout",
     "output_type": "stream",
     "text": [
      "['i', 'am', 'raghava', 'agent', '007']\n"
     ]
    }
   ],
   "source": [
    "split=\"i am raghava agent 007\"\n",
    "list1=split.split();\n",
    "print(list1);"
   ]
  },
  {
   "cell_type": "markdown",
   "id": "b5cd7a08",
   "metadata": {},
   "source": [
    "# Stepsize number"
   ]
  },
  {
   "cell_type": "code",
   "execution_count": 50,
   "id": "2b834fcb",
   "metadata": {},
   "outputs": [
    {
     "name": "stdout",
     "output_type": "stream",
     "text": [
      "[3, 4, 5]\n"
     ]
    }
   ],
   "source": [
    "print(list3[1:9:2]);"
   ]
  },
  {
   "cell_type": "code",
   "execution_count": 52,
   "id": "87821df8",
   "metadata": {},
   "outputs": [
    {
     "name": "stdout",
     "output_type": "stream",
     "text": [
      "['mango']\n"
     ]
    }
   ],
   "source": [
    "print(list2[1:9:2]);"
   ]
  },
  {
   "cell_type": "code",
   "execution_count": 53,
   "id": "f1e6a849",
   "metadata": {},
   "outputs": [
    {
     "name": "stdout",
     "output_type": "stream",
     "text": [
      "[3, 2]\n"
     ]
    }
   ],
   "source": [
    "print(list3[1:9:3]);"
   ]
  },
  {
   "cell_type": "code",
   "execution_count": null,
   "id": "bee79ba3",
   "metadata": {},
   "outputs": [],
   "source": []
  }
 ],
 "metadata": {
  "kernelspec": {
   "display_name": "Python 3 (ipykernel)",
   "language": "python",
   "name": "python3"
  },
  "language_info": {
   "codemirror_mode": {
    "name": "ipython",
    "version": 3
   },
   "file_extension": ".py",
   "mimetype": "text/x-python",
   "name": "python",
   "nbconvert_exporter": "python",
   "pygments_lexer": "ipython3",
   "version": "3.9.12"
  }
 },
 "nbformat": 4,
 "nbformat_minor": 5
}
