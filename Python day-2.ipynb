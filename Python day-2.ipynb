{
 "cells": [
  {
   "cell_type": "code",
   "execution_count": 1,
   "id": "66fefe0e",
   "metadata": {},
   "outputs": [
    {
     "name": "stdout",
     "output_type": "stream",
     "text": [
      "hello world\n"
     ]
    }
   ],
   "source": [
    "# printing\n",
    "\n",
    "x='hello world'\n",
    "print(x)"
   ]
  },
  {
   "cell_type": "code",
   "execution_count": 2,
   "id": "c2650d7e",
   "metadata": {},
   "outputs": [
    {
     "name": "stdout",
     "output_type": "stream",
     "text": [
      "hello bava\n"
     ]
    }
   ],
   "source": [
    "\"hello bava\"\n",
    "print(\"hello bava\")"
   ]
  },
  {
   "cell_type": "code",
   "execution_count": 3,
   "id": "aa5e0385",
   "metadata": {},
   "outputs": [
    {
     "data": {
      "text/plain": [
       "'hai this is arya'"
      ]
     },
     "execution_count": 3,
     "metadata": {},
     "output_type": "execute_result"
    }
   ],
   "source": [
    "'hai this is arya'"
   ]
  },
  {
   "cell_type": "code",
   "execution_count": 4,
   "id": "80aa41c9",
   "metadata": {},
   "outputs": [
    {
     "data": {
      "text/plain": [
       "'hai i am raghav'"
      ]
     },
     "execution_count": 4,
     "metadata": {},
     "output_type": "execute_result"
    }
   ],
   "source": [
    "\"hai i am raghav\""
   ]
  },
  {
   "cell_type": "code",
   "execution_count": 5,
   "id": "9af47e61",
   "metadata": {},
   "outputs": [
    {
     "name": "stdout",
     "output_type": "stream",
     "text": [
      "this is day2 assignment\n"
     ]
    }
   ],
   "source": [
    "X= \"this is day2 assignment\"\n",
    "print(X)"
   ]
  },
  {
   "cell_type": "markdown",
   "id": "3d4c78bd",
   "metadata": {},
   "source": [
    "# Dot format method"
   ]
  },
  {
   "cell_type": "code",
   "execution_count": 6,
   "id": "69b6bcf4",
   "metadata": {},
   "outputs": [
    {
     "name": "stdout",
     "output_type": "stream",
     "text": [
      "my number is :7, my name is :arya\n"
     ]
    }
   ],
   "source": [
    "num = 7\n",
    "name = 'arya'\n",
    "print('my number is :{one}, my name is :{two}' .format (one=num,two=name))"
   ]
  },
  {
   "cell_type": "markdown",
   "id": "f06fa7ef",
   "metadata": {},
   "source": [
    "Trying different methods"
   ]
  },
  {
   "cell_type": "code",
   "execution_count": 7,
   "id": "7448d821",
   "metadata": {},
   "outputs": [
    {
     "name": "stdout",
     "output_type": "stream",
     "text": [
      "my number is :77, my name is :agent007\n"
     ]
    }
   ],
   "source": [
    "num = 77\n",
    "name = 'agent007'\n",
    "print('my number is :{}, my name is :{}' .format(num,name))"
   ]
  },
  {
   "cell_type": "code",
   "execution_count": 8,
   "id": "54957f05",
   "metadata": {},
   "outputs": [
    {
     "ename": "NameError",
     "evalue": "name 'agent036' is not defined",
     "output_type": "error",
     "traceback": [
      "\u001b[1;31m---------------------------------------------------------------------------\u001b[0m",
      "\u001b[1;31mNameError\u001b[0m                                 Traceback (most recent call last)",
      "Input \u001b[1;32mIn [8]\u001b[0m, in \u001b[0;36m<cell line: 3>\u001b[1;34m()\u001b[0m\n\u001b[0;32m      1\u001b[0m num \u001b[38;5;241m=\u001b[39m \u001b[38;5;241m36\u001b[39m\n\u001b[0;32m      2\u001b[0m name \u001b[38;5;241m=\u001b[39m \u001b[38;5;124m'\u001b[39m\u001b[38;5;124magent036\u001b[39m\u001b[38;5;124m'\u001b[39m\n\u001b[1;32m----> 3\u001b[0m \u001b[38;5;28mprint\u001b[39m(\u001b[38;5;124m'\u001b[39m\u001b[38;5;124mmy batch number is :\u001b[39m\u001b[38;5;132;01m{}\u001b[39;00m\u001b[38;5;124m, my name is :\u001b[39m\u001b[38;5;132;01m{}\u001b[39;00m\u001b[38;5;124m'\u001b[39m \u001b[38;5;241m.\u001b[39mformat(\u001b[38;5;241m36\u001b[39m,\u001b[43magent036\u001b[49m))\n",
      "\u001b[1;31mNameError\u001b[0m: name 'agent036' is not defined"
     ]
    }
   ],
   "source": [
    "num = 36\n",
    "name = 'agent036'\n",
    "print('my batch number is :{}, my name is :{}' .format(36,agent036))"
   ]
  },
  {
   "cell_type": "code",
   "execution_count": 9,
   "id": "08129c1a",
   "metadata": {},
   "outputs": [
    {
     "ename": "IndexError",
     "evalue": "Replacement index 1 out of range for positional args tuple",
     "output_type": "error",
     "traceback": [
      "\u001b[1;31m---------------------------------------------------------------------------\u001b[0m",
      "\u001b[1;31mIndexError\u001b[0m                                Traceback (most recent call last)",
      "Input \u001b[1;32mIn [9]\u001b[0m, in \u001b[0;36m<cell line: 3>\u001b[1;34m()\u001b[0m\n\u001b[0;32m      1\u001b[0m num \u001b[38;5;241m=\u001b[39m \u001b[38;5;241m36\u001b[39m\n\u001b[0;32m      2\u001b[0m name \u001b[38;5;241m=\u001b[39m \u001b[38;5;124m'\u001b[39m\u001b[38;5;124magent036\u001b[39m\u001b[38;5;124m'\u001b[39m\n\u001b[1;32m----> 3\u001b[0m \u001b[38;5;28mprint\u001b[39m(\u001b[38;5;124;43m'\u001b[39;49m\u001b[38;5;124;43mmy batch number is :\u001b[39;49m\u001b[38;5;132;43;01m{}\u001b[39;49;00m\u001b[38;5;124;43m, my name is :\u001b[39;49m\u001b[38;5;132;43;01m{}\u001b[39;49;00m\u001b[38;5;124;43m'\u001b[39;49m\u001b[43m \u001b[49m\u001b[38;5;241;43m.\u001b[39;49m\u001b[43mformat\u001b[49m\u001b[43m(\u001b[49m\u001b[38;5;124;43m'\u001b[39;49m\u001b[38;5;124;43m36,agent036\u001b[39;49m\u001b[38;5;124;43m'\u001b[39;49m\u001b[43m)\u001b[49m)\n",
      "\u001b[1;31mIndexError\u001b[0m: Replacement index 1 out of range for positional args tuple"
     ]
    }
   ],
   "source": [
    "num = 36\n",
    "name = 'agent036'\n",
    "print('my batch number is :{}, my name is :{}' .format('36,agent036'))"
   ]
  },
  {
   "cell_type": "code",
   "execution_count": 10,
   "id": "2d41d0e8",
   "metadata": {},
   "outputs": [
    {
     "name": "stdout",
     "output_type": "stream",
     "text": [
      "my batch number is :36, my name is :agent036\n"
     ]
    }
   ],
   "source": [
    "num = 36\n",
    "name = 'agent036'\n",
    "print('my batch number is :{}, my name is :{}' .format(num,name))"
   ]
  },
  {
   "cell_type": "code",
   "execution_count": 11,
   "id": "33887d84",
   "metadata": {},
   "outputs": [
    {
     "name": "stdout",
     "output_type": "stream",
     "text": [
      "my name is agent036\n"
     ]
    }
   ],
   "source": [
    "print('my name is {}' .format('agent036'))"
   ]
  },
  {
   "cell_type": "markdown",
   "id": "2755573b",
   "metadata": {},
   "source": [
    "observe i didnt use any double quotations"
   ]
  },
  {
   "cell_type": "markdown",
   "id": "19c03cae",
   "metadata": {},
   "source": [
    "# Total keywords"
   ]
  },
  {
   "cell_type": "code",
   "execution_count": 25,
   "id": "a37d4562",
   "metadata": {},
   "outputs": [
    {
     "name": "stdout",
     "output_type": "stream",
     "text": [
      "['False', 'None', 'True', '__peg_parser__', 'and', 'as', 'assert', 'async', 'await', 'break', 'class', 'continue', 'def', 'del', 'elif', 'else', 'except', 'finally', 'for', 'from', 'global', 'if', 'import', 'in', 'is', 'lambda', 'nonlocal', 'not', 'or', 'pass', 'raise', 'return', 'try', 'while', 'with', 'yield']\n",
      "\n",
      " total number of keyword : 36\n"
     ]
    }
   ],
   "source": [
    "import keyword\n",
    "print(keyword.kwlist)\n",
    "print(\"\\n total number of keyword :\",len(keyword.kwlist))"
   ]
  },
  {
   "cell_type": "markdown",
   "id": "8ed38d6c",
   "metadata": {},
   "source": [
    "# Printing the lists with Indexing"
   ]
  },
  {
   "cell_type": "code",
   "execution_count": 35,
   "id": "56e1d21a",
   "metadata": {},
   "outputs": [
    {
     "data": {
      "text/plain": [
       "2"
      ]
     },
     "execution_count": 35,
     "metadata": {},
     "output_type": "execute_result"
    }
   ],
   "source": [
    "my_list= [1,2,3,4,5]\n",
    "my_list[1]"
   ]
  },
  {
   "cell_type": "code",
   "execution_count": 37,
   "id": "401f6347",
   "metadata": {},
   "outputs": [
    {
     "data": {
      "text/plain": [
       "5"
      ]
     },
     "execution_count": 37,
     "metadata": {},
     "output_type": "execute_result"
    }
   ],
   "source": [
    "my_list[4]"
   ]
  },
  {
   "cell_type": "code",
   "execution_count": 38,
   "id": "98f20bf1",
   "metadata": {},
   "outputs": [
    {
     "data": {
      "text/plain": [
       "[1, 4, 6, 8, 9]"
      ]
     },
     "execution_count": 38,
     "metadata": {},
     "output_type": "execute_result"
    }
   ],
   "source": [
    "[1,4,6,8,9]"
   ]
  },
  {
   "cell_type": "code",
   "execution_count": 39,
   "id": "6679c49f",
   "metadata": {},
   "outputs": [
    {
     "data": {
      "text/plain": [
       "[1, 4, 7, 'agent']"
      ]
     },
     "execution_count": 39,
     "metadata": {},
     "output_type": "execute_result"
    }
   ],
   "source": [
    "[1,4,7,'agent']"
   ]
  },
  {
   "cell_type": "code",
   "execution_count": 41,
   "id": "e145d2f3",
   "metadata": {},
   "outputs": [
    {
     "data": {
      "text/plain": [
       "['agentarya', 1, 2, 3, [6, 7, 8]]"
      ]
     },
     "execution_count": 41,
     "metadata": {},
     "output_type": "execute_result"
    }
   ],
   "source": [
    "['agentarya', 1,2,3,[6,7,8]]"
   ]
  },
  {
   "cell_type": "raw",
   "id": "85276088",
   "metadata": {},
   "source": [
    "error observed if i didnt give \",\" between 3 and 6"
   ]
  },
  {
   "cell_type": "markdown",
   "id": "fd274be7",
   "metadata": {},
   "source": [
    "# List operations"
   ]
  },
  {
   "cell_type": "code",
   "execution_count": 42,
   "id": "017782ac",
   "metadata": {},
   "outputs": [],
   "source": [
    "my_list=['sekhar','agent', 'srinivas', 'satya']\n",
    "my_list.append('srisatya')"
   ]
  },
  {
   "cell_type": "code",
   "execution_count": 43,
   "id": "c6a363b1",
   "metadata": {},
   "outputs": [
    {
     "data": {
      "text/plain": [
       "['sekhar', 'agent', 'srinivas', 'satya', 'srisatya']"
      ]
     },
     "execution_count": 43,
     "metadata": {},
     "output_type": "execute_result"
    }
   ],
   "source": [
    "my_list"
   ]
  },
  {
   "cell_type": "code",
   "execution_count": 44,
   "id": "57cd1d5c",
   "metadata": {},
   "outputs": [
    {
     "data": {
      "text/plain": [
       "'srisatya'"
      ]
     },
     "execution_count": 44,
     "metadata": {},
     "output_type": "execute_result"
    }
   ],
   "source": [
    "my_list[4]"
   ]
  },
  {
   "cell_type": "markdown",
   "id": "7d4bf44a",
   "metadata": {},
   "source": [
    "# Eliminating in the list"
   ]
  },
  {
   "cell_type": "code",
   "execution_count": 45,
   "id": "88e8be41",
   "metadata": {},
   "outputs": [
    {
     "data": {
      "text/plain": [
       "['agent', 'srinivas', 'satya', 'srisatya']"
      ]
     },
     "execution_count": 45,
     "metadata": {},
     "output_type": "execute_result"
    }
   ],
   "source": [
    "#eliminate first one\n",
    "my_list[1:]"
   ]
  },
  {
   "cell_type": "code",
   "execution_count": 47,
   "id": "4eafe01b",
   "metadata": {},
   "outputs": [
    {
     "data": {
      "text/plain": [
       "['sekhar']"
      ]
     },
     "execution_count": 47,
     "metadata": {},
     "output_type": "execute_result"
    }
   ],
   "source": [
    "# to show the eliminated content\n",
    "my_list[:1]"
   ]
  },
  {
   "cell_type": "code",
   "execution_count": 48,
   "id": "5442eb1e",
   "metadata": {},
   "outputs": [
    {
     "data": {
      "text/plain": [
       "['sekhar', 'agent', 'srinivas', 'satya', 'srisatya']"
      ]
     },
     "execution_count": 48,
     "metadata": {},
     "output_type": "execute_result"
    }
   ],
   "source": [
    "my_list"
   ]
  },
  {
   "cell_type": "code",
   "execution_count": 50,
   "id": "394c1592",
   "metadata": {},
   "outputs": [
    {
     "data": {
      "text/plain": [
       "['sekhar', 'agent', 'srinivas', 'satya', 'srisatya']"
      ]
     },
     "execution_count": 50,
     "metadata": {},
     "output_type": "execute_result"
    }
   ],
   "source": [
    "my_list"
   ]
  },
  {
   "cell_type": "markdown",
   "id": "c87b7d95",
   "metadata": {},
   "source": [
    "# Boolean operations"
   ]
  },
  {
   "cell_type": "code",
   "execution_count": 51,
   "id": "037de0d5",
   "metadata": {},
   "outputs": [
    {
     "data": {
      "text/plain": [
       "True"
      ]
     },
     "execution_count": 51,
     "metadata": {},
     "output_type": "execute_result"
    }
   ],
   "source": [
    "4>2"
   ]
  },
  {
   "cell_type": "code",
   "execution_count": 52,
   "id": "e3d74b48",
   "metadata": {},
   "outputs": [
    {
     "data": {
      "text/plain": [
       "True"
      ]
     },
     "execution_count": 52,
     "metadata": {},
     "output_type": "execute_result"
    }
   ],
   "source": [
    "3>=3"
   ]
  },
  {
   "cell_type": "code",
   "execution_count": 53,
   "id": "675e00a8",
   "metadata": {},
   "outputs": [
    {
     "data": {
      "text/plain": [
       "False"
      ]
     },
     "execution_count": 53,
     "metadata": {},
     "output_type": "execute_result"
    }
   ],
   "source": [
    "6<1"
   ]
  },
  {
   "cell_type": "code",
   "execution_count": 54,
   "id": "f85a7715",
   "metadata": {},
   "outputs": [
    {
     "data": {
      "text/plain": [
       "False"
      ]
     },
     "execution_count": 54,
     "metadata": {},
     "output_type": "execute_result"
    }
   ],
   "source": [
    "'hai'=='hello'"
   ]
  },
  {
   "cell_type": "markdown",
   "id": "4abf103a",
   "metadata": {},
   "source": [
    "# Set and list of operations"
   ]
  },
  {
   "cell_type": "code",
   "execution_count": 56,
   "id": "55fcc9d5",
   "metadata": {},
   "outputs": [
    {
     "data": {
      "text/plain": [
       "{1, 2, 3, 4, 5, 6, 7, 8, 9}"
      ]
     },
     "execution_count": 56,
     "metadata": {},
     "output_type": "execute_result"
    }
   ],
   "source": [
    "{1,1,2,3,3,3,4,5,6,6,7,8,9,9}"
   ]
  },
  {
   "cell_type": "code",
   "execution_count": 57,
   "id": "ff0a7323",
   "metadata": {},
   "outputs": [
    {
     "data": {
      "text/plain": [
       "[1, 1, 2, 2, 3, 3, 4, 4, 5, 5]"
      ]
     },
     "execution_count": 57,
     "metadata": {},
     "output_type": "execute_result"
    }
   ],
   "source": [
    "[1,1,2,2,3,3,4,4,5,5]"
   ]
  },
  {
   "cell_type": "markdown",
   "id": "07f8a2bf",
   "metadata": {},
   "source": [
    "# Intendation operation"
   ]
  },
  {
   "cell_type": "code",
   "execution_count": 60,
   "id": "0f99b65a",
   "metadata": {},
   "outputs": [
    {
     "ename": "IndentationError",
     "evalue": "expected an indented block (2893082284.py, line 4)",
     "output_type": "error",
     "traceback": [
      "\u001b[1;36m  Input \u001b[1;32mIn [60]\u001b[1;36m\u001b[0m\n\u001b[1;33m    print('five is grater than two')\u001b[0m\n\u001b[1;37m    ^\u001b[0m\n\u001b[1;31mIndentationError\u001b[0m\u001b[1;31m:\u001b[0m expected an indented block\n"
     ]
    }
   ],
   "source": [
    "#first lets see how we shouldnt write\n",
    "\n",
    "if 5>2:\n",
    "print('five is grater than two')"
   ]
  },
  {
   "cell_type": "code",
   "execution_count": 61,
   "id": "50595ad3",
   "metadata": {},
   "outputs": [
    {
     "name": "stdout",
     "output_type": "stream",
     "text": [
      "five is less than six\n"
     ]
    }
   ],
   "source": [
    "#now we see the intendation format\n",
    "\n",
    "if 5<6:\n",
    "    print(\"five is less than six\")"
   ]
  },
  {
   "cell_type": "code",
   "execution_count": 62,
   "id": "8acacf27",
   "metadata": {},
   "outputs": [
    {
     "name": "stdout",
     "output_type": "stream",
     "text": [
      "five is less than six\n"
     ]
    }
   ],
   "source": [
    "#checking with one space insted of industry standards 4-spaces\n",
    "\n",
    "if 5<6:\n",
    " print(\"five is less than six\")"
   ]
  },
  {
   "cell_type": "code",
   "execution_count": 63,
   "id": "0ce92602",
   "metadata": {},
   "outputs": [
    {
     "name": "stdout",
     "output_type": "stream",
     "text": [
      "0\n",
      "1\n",
      "2\n",
      "3\n",
      "4\n",
      "5\n",
      "6\n",
      "7\n",
      "8\n",
      "9\n",
      "10\n",
      "11\n",
      "12\n",
      "13\n",
      "14\n"
     ]
    }
   ],
   "source": [
    "for i in range(15):\n",
    "    print(i)"
   ]
  },
  {
   "cell_type": "code",
   "execution_count": null,
   "id": "adb0d158",
   "metadata": {},
   "outputs": [],
   "source": []
  }
 ],
 "metadata": {
  "kernelspec": {
   "display_name": "Python 3 (ipykernel)",
   "language": "python",
   "name": "python3"
  },
  "language_info": {
   "codemirror_mode": {
    "name": "ipython",
    "version": 3
   },
   "file_extension": ".py",
   "mimetype": "text/x-python",
   "name": "python",
   "nbconvert_exporter": "python",
   "pygments_lexer": "ipython3",
   "version": "3.9.12"
  }
 },
 "nbformat": 4,
 "nbformat_minor": 5
}
